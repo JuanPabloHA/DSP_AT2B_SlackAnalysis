{
 "cells": [
  {
   "cell_type": "markdown",
   "metadata": {},
   "source": [
    "## Assessment 2B\n",
    "# MDSI Slack Analysis\n",
    "### Juan Pablo Herrera - 12869246"
   ]
  },
  {
   "cell_type": "markdown",
   "metadata": {},
   "source": [
    "# 1. Introduction\n",
    "The present notebook contains the results of my analysis of the MDSI Slack channel as part of my assignment 2B for Data Science Practice class. As required by the assessment criteria, the following code makes use of the R and Python programming languages as well as SQL queries. The organisation of the document follows a CRISP_DM-like methodology. "
   ]
  },
  {
   "cell_type": "code",
   "execution_count": 1,
   "metadata": {},
   "outputs": [],
   "source": [
    "# Import Libraries\n",
    "import pandas as pd \n",
    "import matplotlib.pyplot as plt \n",
    "from sqlalchemy import create_engine\n",
    "import datetime\n",
    "\n",
    "# Required for visualisation using ggplot2\n",
    "from rpy2.robjects import pandas2ri   \n",
    "pandas2ri.activate()\n",
    "%reload_ext rpy2.ipython"
   ]
  },
  {
   "cell_type": "markdown",
   "metadata": {},
   "source": [
    "# 2. Data understanding\n",
    "\n",
    "## 2.1. Data Collection\n",
    "For the data collection process, we make use of the Python libraries 'sqlalchemy' and 'pyscopg2'. Note that at the current stage we are only interested in the general characteristics of each table contained in the database and therefore we load the tables using a simple SQL query with the form 'SELECT * FROM table;'. In the following section, we use longer queries to extract custom tables from the Slack database. After connecting to the database and generating our dataframes, we proceed to print the first five rows of each table; we do this because it is a great starting point to getting to know your data. "
   ]
  },
  {
   "cell_type": "code",
   "execution_count": 2,
   "metadata": {
    "scrolled": true
   },
   "outputs": [
    {
     "name": "stdout",
     "output_type": "stream",
     "text": [
      "     user_id   user_nickname       user_name       user_timezone  \\\n",
      "0  U1YEPQMU5        lilianta       Lilian Ta  Australia/Canberra   \n",
      "1  U1WP5BRRU      joeysyd123        Joey Liu  Australia/Canberra   \n",
      "2  U9ZDY9AKB  sastra.widjaja        Roger Yu  Australia/Canberra   \n",
      "3  U9KG4RGMD        13102191   Jorge Pilayre  Australia/Canberra   \n",
      "4  U4ELUPRDY   peteholberton  Pete Holberton  Australia/Canberra   \n",
      "\n",
      "                                          user_photo  user_is_admin  \\\n",
      "0  https://avatars.slack-edge.com/2016-09-03/7598...          False   \n",
      "1  https://secure.gravatar.com/avatar/fffe46e0721...          False   \n",
      "2  https://secure.gravatar.com/avatar/68c8f6b4f9c...          False   \n",
      "3  https://secure.gravatar.com/avatar/ed29657c615...          False   \n",
      "4  https://avatars.slack-edge.com/2017-03-08/1512...          False   \n",
      "\n",
      "   user_is_owner  user_is_bot  user_is_deleted  \n",
      "0          False        False            False  \n",
      "1          False        False            False  \n",
      "2          False        False            False  \n",
      "3          False        False            False  \n",
      "4          False        False            False  \n",
      "  channel_id         channel_name           channel_created channel_creator  \\\n",
      "0  C2LUXENG2         peppersgroup 2016-10-07 23:05:32+00:00       U1XQC0133   \n",
      "1  C6ZNG1ADU           fliparound 2017-09-06 10:34:46+00:00       U18TT99MY   \n",
      "2  CAG7XKDMW      dvn2018autteam4 2018-05-02 10:44:23+00:00       U4H1HFP7E   \n",
      "3  CC6RBHF5J              dev_nlp 2018-08-12 03:58:21+00:00       U4EHVEMEV   \n",
      "4  C4RLFGL73  mdsi_cicaround_help 2017-03-30 21:04:14+00:00       U3W7BRXAS   \n",
      "\n",
      "   channel_is_archived channel_topic  \\\n",
      "0                 True                 \n",
      "1                False                 \n",
      "2                False                 \n",
      "3                False                 \n",
      "4                False                 \n",
      "\n",
      "                                     channel_purpose  \n",
      "0                                          Hackathon  \n",
      "1  This channel automatically creates tickets for...  \n",
      "2                                                     \n",
      "3  A channel to share resources about natural lan...  \n",
      "4  we will use this channel to collect issues wit...  \n",
      "  channel_id    user_id                                       message_text  \\\n",
      "0  C1924SRPG  U1ALDV1NX            reactive variables are f hard to debug.   \n",
      "1  C1DPDS65N  U9WLQER1T  The default stress sensor settings in R-Studio...   \n",
      "2  C18SWDACD  U18TT99MY  Just to re-iterate that point... Please feel f...   \n",
      "3  CC7TMS9JT  U9HTW5Z35  I don't see a face to face class in my timetab...   \n",
      "4  C192JHDND  U18SN8UQ6  Currently it's just a mash up of old courses r...   \n",
      "\n",
      "          message_timestamp  message_attachment_count  message_reply_count  \n",
      "0 2016-07-18 10:41:06+00:00                       0.0                  0.0  \n",
      "1 2018-04-19 03:35:48+00:00                       0.0                  0.0  \n",
      "2 2018-03-23 10:05:52+00:00                       0.0                  0.0  \n",
      "3 2018-09-05 09:31:49+00:00                       0.0                  0.0  \n",
      "4 2016-10-05 05:38:36+00:00                       0.0                  0.0  \n"
     ]
    }
   ],
   "source": [
    "#  Conect to the database \n",
    "engine = create_engine(\"postgresql+psycopg2://dsp2019:oZkK6vgRbvDK@/mdsislack?host=mdsislack.clnutj7nhgyn.us-east-2.rds.amazonaws.com&port=5432\")\n",
    "\n",
    "con = engine.connect()\n",
    "\n",
    "# users table\n",
    "rs = con.execute('SELECT * FROM users;')\n",
    "users = pd.DataFrame(rs.fetchall())\n",
    "users.columns = rs.keys()\n",
    "\n",
    "print(users.head())\n",
    "\n",
    "# Channels\n",
    "C_rs = con.execute('SELECT * FROM channels;')\n",
    "channels = pd.DataFrame(C_rs.fetchall())\n",
    "channels.columns = C_rs.keys()\n",
    "\n",
    "print(channels.head())\n",
    "\n",
    "# Messages \n",
    "M_rs = con.execute('SELECT * FROM messages;')\n",
    "messages = pd.DataFrame(M_rs.fetchall())\n",
    "messages.columns = M_rs.keys()\n",
    "\n",
    "print(messages.head())\n",
    "\n",
    "con.close()\n",
    "# If you experience problems installing psycopg2 using pip, you might have to avoid installing \n",
    "# from the source and install the 'psycopg2-binary' package instead.\n"
   ]
  },
  {
   "cell_type": "markdown",
   "metadata": {},
   "source": [
    "## 2.2. Data Description\n",
    "In this section, we describe the data sets most basic properties. Using the method '.shape()' we can get the dimensions of the table stored in a tuple with the format (rows, columns). As we can observe, by the time of the creation of the database, we had 363 users in the MDSI slack channel, 128 different channels and a total of 28693 messages. Using the method '.info()', we can get extra information regarding the format of each variable in all three tables. As an interesting point, only the messages table contain numeric variables. "
   ]
  },
  {
   "cell_type": "code",
   "execution_count": 3,
   "metadata": {
    "scrolled": true
   },
   "outputs": [
    {
     "name": "stdout",
     "output_type": "stream",
     "text": [
      "The users table has: 363 users\n",
      "The Channels table has: 128 channels\n",
      "The Messages table has: 28693 messages\n",
      "\n",
      "<class 'pandas.core.frame.DataFrame'>\n",
      "RangeIndex: 363 entries, 0 to 362\n",
      "Data columns (total 9 columns):\n",
      "user_id            363 non-null object\n",
      "user_nickname      363 non-null object\n",
      "user_name          363 non-null object\n",
      "user_timezone      363 non-null object\n",
      "user_photo         363 non-null object\n",
      "user_is_admin      363 non-null bool\n",
      "user_is_owner      363 non-null bool\n",
      "user_is_bot        363 non-null bool\n",
      "user_is_deleted    363 non-null bool\n",
      "dtypes: bool(4), object(5)\n",
      "memory usage: 15.7+ KB\n",
      "None\n",
      "<class 'pandas.core.frame.DataFrame'>\n",
      "RangeIndex: 128 entries, 0 to 127\n",
      "Data columns (total 7 columns):\n",
      "channel_id             128 non-null object\n",
      "channel_name           128 non-null object\n",
      "channel_created        128 non-null datetime64[ns, psycopg2.tz.FixedOffsetTimezone(offset=0, name=None)]\n",
      "channel_creator        128 non-null object\n",
      "channel_is_archived    128 non-null bool\n",
      "channel_topic          128 non-null object\n",
      "channel_purpose        128 non-null object\n",
      "dtypes: bool(1), datetime64[ns, psycopg2.tz.FixedOffsetTimezone(offset=0, name=None)](1), object(5)\n",
      "memory usage: 6.2+ KB\n",
      "None\n",
      "<class 'pandas.core.frame.DataFrame'>\n",
      "RangeIndex: 28693 entries, 0 to 28692\n",
      "Data columns (total 6 columns):\n",
      "channel_id                  28693 non-null object\n",
      "user_id                     28693 non-null object\n",
      "message_text                28693 non-null object\n",
      "message_timestamp           28693 non-null datetime64[ns, psycopg2.tz.FixedOffsetTimezone(offset=0, name=None)]\n",
      "message_attachment_count    28693 non-null float64\n",
      "message_reply_count         28693 non-null float64\n",
      "dtypes: datetime64[ns, psycopg2.tz.FixedOffsetTimezone(offset=0, name=None)](1), float64(2), object(3)\n",
      "memory usage: 1.3+ MB\n",
      "None\n"
     ]
    }
   ],
   "source": [
    "# With the method .shape(), we can tell the number of users, channels and total number of messgages\n",
    "print('The users table has: ' + str(users.shape[0]) + ' users') # Number of users\n",
    "print('The Channels table has: ' + str(channels.shape[0]) + ' channels')\n",
    "print('The Messages table has: ' + str(messages.shape[0]) + ' messages')\n",
    "\n",
    "print('') # \n",
    "\n",
    "# Information\n",
    "print(users.info()) \n",
    "print(channels.info())\n",
    "print(messages.info())"
   ]
  },
  {
   "cell_type": "markdown",
   "metadata": {},
   "source": [
    "## 2.3. Exploratory Data Analysis - EDA\n",
    "In the following section, we introduce the results for the EDA for all three tables previously introduced.\n",
    "\n",
    "### 2.3.1. Numeric Values\n",
    "Since we only have two numeric values in the whole dataset, it sounds like a good idea first take a look at these two values. calling the method '.describe()' on the messages table, we can get the summary statistics for the numeric values. The results are telling us that in general, posts or messages made by users containing less than one attachment in average. For the case of the message reply count, we have that it is also less that one in average with a maximum of  50 replies for a particular message. "
   ]
  },
  {
   "cell_type": "code",
   "execution_count": 4,
   "metadata": {},
   "outputs": [
    {
     "data": {
      "text/html": [
       "<div>\n",
       "<style scoped>\n",
       "    .dataframe tbody tr th:only-of-type {\n",
       "        vertical-align: middle;\n",
       "    }\n",
       "\n",
       "    .dataframe tbody tr th {\n",
       "        vertical-align: top;\n",
       "    }\n",
       "\n",
       "    .dataframe thead th {\n",
       "        text-align: right;\n",
       "    }\n",
       "</style>\n",
       "<table border=\"1\" class=\"dataframe\">\n",
       "  <thead>\n",
       "    <tr style=\"text-align: right;\">\n",
       "      <th></th>\n",
       "      <th>message_attachment_count</th>\n",
       "      <th>message_reply_count</th>\n",
       "    </tr>\n",
       "  </thead>\n",
       "  <tbody>\n",
       "    <tr>\n",
       "      <td>count</td>\n",
       "      <td>28693.000000</td>\n",
       "      <td>28693.000000</td>\n",
       "    </tr>\n",
       "    <tr>\n",
       "      <td>mean</td>\n",
       "      <td>0.060572</td>\n",
       "      <td>0.133587</td>\n",
       "    </tr>\n",
       "    <tr>\n",
       "      <td>std</td>\n",
       "      <td>0.249265</td>\n",
       "      <td>1.309343</td>\n",
       "    </tr>\n",
       "    <tr>\n",
       "      <td>min</td>\n",
       "      <td>0.000000</td>\n",
       "      <td>0.000000</td>\n",
       "    </tr>\n",
       "    <tr>\n",
       "      <td>25%</td>\n",
       "      <td>0.000000</td>\n",
       "      <td>0.000000</td>\n",
       "    </tr>\n",
       "    <tr>\n",
       "      <td>50%</td>\n",
       "      <td>0.000000</td>\n",
       "      <td>0.000000</td>\n",
       "    </tr>\n",
       "    <tr>\n",
       "      <td>75%</td>\n",
       "      <td>0.000000</td>\n",
       "      <td>0.000000</td>\n",
       "    </tr>\n",
       "    <tr>\n",
       "      <td>max</td>\n",
       "      <td>4.000000</td>\n",
       "      <td>50.000000</td>\n",
       "    </tr>\n",
       "  </tbody>\n",
       "</table>\n",
       "</div>"
      ],
      "text/plain": [
       "       message_attachment_count  message_reply_count\n",
       "count              28693.000000         28693.000000\n",
       "mean                   0.060572             0.133587\n",
       "std                    0.249265             1.309343\n",
       "min                    0.000000             0.000000\n",
       "25%                    0.000000             0.000000\n",
       "50%                    0.000000             0.000000\n",
       "75%                    0.000000             0.000000\n",
       "max                    4.000000            50.000000"
      ]
     },
     "execution_count": 4,
     "metadata": {},
     "output_type": "execute_result"
    }
   ],
   "source": [
    "# Describe the message numeric colums of the messages table\n",
    "messages.describe()"
   ]
  },
  {
   "cell_type": "markdown",
   "metadata": {},
   "source": [
    "In the following segment, we present a simple set of visualisations of the tables presented above. As expected, since the mean for both message attachment count and message reply count are bellow 1, the histograms reflect a large number of observations concentrated around 1."
   ]
  },
  {
   "cell_type": "code",
   "execution_count": 5,
   "metadata": {},
   "outputs": [
    {
     "data": {
      "image/png": "[encoded data removed]",
      "text/plain": [
       "<Figure size 432x288 with 1 Axes>"
      ]
     },
     "metadata": {
      "needs_background": "light"
     },
     "output_type": "display_data"
    }
   ],
   "source": [
    "# Visualisation of the message_attachment_count\n",
    "messages['message_attachment_count'].plot(kind = 'hist', title = 'Message Attachment Count')\n",
    "plt.show()"
   ]
  },
  {
   "cell_type": "code",
   "execution_count": 6,
   "metadata": {},
   "outputs": [
    {
     "data": {
      "image/png": "[encoded data removed]",
      "text/plain": [
       "<Figure size 432x288 with 1 Axes>"
      ]
     },
     "metadata": {
      "needs_background": "light"
     },
     "output_type": "display_data"
    }
   ],
   "source": [
    "# Visualisation of the message_reply_count \n",
    "messages['message_reply_count'].plot(kind =  'hist', title = 'Message Reply Count')\n",
    "plt.show()"
   ]
  },
  {
   "cell_type": "markdown",
   "metadata": {},
   "source": [
    "### 2.3.2. Non-numeric Values\n",
    "In this section of the EDA, we focus our attention on the non-numeric variables. Given the amount of different variables, we are not going to go over all of them, and we are only describing a few for each table. After we complete this step, we can move to the data preparation section."
   ]
  },
  {
   "cell_type": "markdown",
   "metadata": {},
   "source": [
    "#### 2.3.2.1. Users table\n",
    "When looking at the variables in the users' table, the first two questions that we want to answer relate to the total number of users with admin rights and their names. I the next tow cells we produce answers for those questions, and we discover that there are 5 admins, using slicing trickery, we can tell their names. \n",
    "The next two incognitas that we want to answer are related to the users who are bots and the users that have been deleted. In the case of the users that are bots, we found 9 of them as well as their names. Finally, from the variable 'user_is_deleted', we know that none of the reported 363 users has this status."
   ]
  },
  {
   "cell_type": "code",
   "execution_count": 7,
   "metadata": {},
   "outputs": [
    {
     "name": "stdout",
     "output_type": "stream",
     "text": [
      "False    358\n",
      "True       5\n",
      "Name: user_is_admin, dtype: int64\n"
     ]
    }
   ],
   "source": [
    "# How many admins\n",
    "print(users['user_is_admin'].value_counts(dropna = False))"
   ]
  },
  {
   "cell_type": "code",
   "execution_count": 8,
   "metadata": {},
   "outputs": [
    {
     "name": "stdout",
     "output_type": "stream",
     "text": [
      "63         Alex Scriven\n",
      "84           Rory Angus\n",
      "164                Shan\n",
      "234    Perry Stephenson\n",
      "331           Dan Booth\n",
      "Name: user_name, dtype: object\n"
     ]
    }
   ],
   "source": [
    "# Who are the admins?\n",
    "print(users[users['user_is_admin'] == True]['user_name'])"
   ]
  },
  {
   "cell_type": "code",
   "execution_count": 9,
   "metadata": {},
   "outputs": [
    {
     "name": "stdout",
     "output_type": "stream",
     "text": [
      "8      Google Drive\n",
      "17        Bitbucket\n",
      "88         Eda 2018\n",
      "200          Trello\n",
      "249           Polly\n",
      "252          GitHub\n",
      "295      Jira Cloud\n",
      "300          callie\n",
      "361        greetbot\n",
      "Name: user_name, dtype: object\n"
     ]
    }
   ],
   "source": [
    "# Who are the bots?\n",
    "print(users[users['user_is_bot'] == True]['user_name'])"
   ]
  },
  {
   "cell_type": "code",
   "execution_count": 10,
   "metadata": {},
   "outputs": [
    {
     "name": "stdout",
     "output_type": "stream",
     "text": [
      "False    363\n",
      "Name: user_is_deleted, dtype: int64\n"
     ]
    }
   ],
   "source": [
    "# Deleted Users\n",
    "print(users['user_is_deleted'].value_counts(dropna = False))"
   ]
  },
  {
   "cell_type": "markdown",
   "metadata": {},
   "source": [
    "#### 2.3.2.2. Channels table\n",
    "From the channels table, at this point, we would like to know if the Channels status is archived or not, this would be the same as knowing which channels are active and what channels are inactive. After using the method '.value_counts()' on the variable 'channel_is_archived', we discovered that out of the 128 channels in the MDSI slack channel, 54 have been archived and 74 are still in use. For the next question, we decided that we would like to know the names of the archived channels and the names of the active channels. Finally, we would like to know if one user has created more than one channel and whats the id of that user in particular, looking at the results we can see that just one user (U18TT99MY) has created 8 of the 74 active channels (~11%), followed by one user with 5 active channels. Note that at the current stage, we can't tell what's the name of the user with 8 active channels without merging the users and channels datasets."
   ]
  },
  {
   "cell_type": "code",
   "execution_count": 11,
   "metadata": {},
   "outputs": [
    {
     "name": "stdout",
     "output_type": "stream",
     "text": [
      "False    74\n",
      "True     54\n",
      "Name: channel_is_archived, dtype: int64\n"
     ]
    }
   ],
   "source": [
    "# How many active channels? \n",
    "print(channels['channel_is_archived'].value_counts(dropna = True))"
   ]
  },
  {
   "cell_type": "code",
   "execution_count": 12,
   "metadata": {},
   "outputs": [
    {
     "name": "stdout",
     "output_type": "stream",
     "text": [
      "1                fliparound\n",
      "2           dvn2018autteam4\n",
      "3                   dev_nlp\n",
      "4       mdsi_cicaround_help\n",
      "5             morningpeople\n",
      "               ...         \n",
      "117        mdsi_unix_aut_19\n",
      "120    statistical_thinking\n",
      "121               dev_other\n",
      "124       inconvenienttruth\n",
      "125      mdsi_announcements\n",
      "Name: channel_name, Length: 74, dtype: object\n"
     ]
    }
   ],
   "source": [
    "# Names of the active channels\n",
    "print(channels[channels['channel_is_archived'] ==  False]['channel_name'])"
   ]
  },
  {
   "cell_type": "code",
   "execution_count": 13,
   "metadata": {
    "scrolled": true
   },
   "outputs": [
    {
     "name": "stdout",
     "output_type": "stream",
     "text": [
      "0               peppersgroup\n",
      "7           mdsi_stds_spr_18\n",
      "10             mdsi_tadpoles\n",
      "11                32146-dvva\n",
      "15             unearthed2018\n",
      "19                 dev-julia\n",
      "20                 full_time\n",
      "21             dadm_aka_dddm\n",
      "22                 excelsior\n",
      "25           mdsi_dam_spr_18\n",
      "27         mdsi_ilab2_spr_18\n",
      "31                  projects\n",
      "32         ilab2_spring_2017\n",
      "33               govhack2017\n",
      "37                      mdsi\n",
      "44                  skeptics\n",
      "47                        ai\n",
      "51               computer_qa\n",
      "52         ilab1_spring_2017\n",
      "53     ai-artificial-intelli\n",
      "57             masterclasses\n",
      "60        dsi-at2-teamsatata\n",
      "61                  dev-bash\n",
      "63        pmdd-aut2017-team2\n",
      "65          unix-autumn-2018\n",
      "66            boardofstudies\n",
      "70                 37459-mda\n",
      "71                pmd_aut_17\n",
      "72           mdsi_dam_aut_18\n",
      "73     32513---advanced-data\n",
      "75                   dev-sql\n",
      "77        jp-morgan-i-lab-18\n",
      "81             private-convo\n",
      "82             social-mining\n",
      "84          mdsi_dadm_aut_18\n",
      "88              what_a_phone\n",
      "89           r-studio-online\n",
      "92              github-setup\n",
      "94                   hacking\n",
      "95                   algroup\n",
      "96          subject-outlines\n",
      "97         interest-startups\n",
      "99               databusters\n",
      "101              dadm_aut_17\n",
      "103           ilab1_aut_2017\n",
      "104        mdsi_ilab1_spr_18\n",
      "106              slack-board\n",
      "108                 pedxhack\n",
      "118            mdsi-tadpoles\n",
      "119              study-group\n",
      "122          stack_underflow\n",
      "123          36101-spring-17\n",
      "126                 bot_test\n",
      "127                      dna\n",
      "Name: channel_name, dtype: object\n"
     ]
    }
   ],
   "source": [
    "# Names of the archived channels\n",
    "print(channels[channels['channel_is_archived'] ==  True]['channel_name'])"
   ]
  },
  {
   "cell_type": "code",
   "execution_count": 14,
   "metadata": {
    "scrolled": true
   },
   "outputs": [
    {
     "name": "stdout",
     "output_type": "stream",
     "text": [
      "U18TT99MY    8\n",
      "U18SN8UQ6    5\n",
      "U1WPFJN1K    4\n",
      "U191LC7S4    4\n",
      "U4ELUPRDY    4\n",
      "U9LGVM1AL    3\n",
      "U21NARLBA    3\n",
      "U4LFX550Q    2\n",
      "U9M3AJZ16    2\n",
      "U18TXPQ8Z    2\n",
      "U18THJEDB    2\n",
      "U4H1HFP7E    2\n",
      "UGRSSB1PX    2\n",
      "U1XKXLN4Q    2\n",
      "U5HTG3CAK    2\n",
      "U1ALDV1NX    2\n",
      "U4LD50GH5    1\n",
      "U9JAZ5518    1\n",
      "U9XJAG7PZ    1\n",
      "U9K38QQEA    1\n",
      "U4EHVEMEV    1\n",
      "U9H7K4P6E    1\n",
      "U6H1MMSAD    1\n",
      "U9GQVQ0BE    1\n",
      "U1J7WGH4P    1\n",
      "U4F5REYLT    1\n",
      "U7GEQJGJ2    1\n",
      "UGPKRK19P    1\n",
      "UC3B6UK1C    1\n",
      "U4SA70S9X    1\n",
      "UBZAPA541    1\n",
      "U1YCSU3PD    1\n",
      "U1WU5039R    1\n",
      "U6G5WSJ64    1\n",
      "U1XL1L5GS    1\n",
      "U3W7BRXAS    1\n",
      "U19QEDDK2    1\n",
      "UBV6TUF5W    1\n",
      "U4M30NF0T    1\n",
      "U7ZT8EU1F    1\n",
      "U1YS82TK4    1\n",
      "Name: channel_creator, dtype: int64\n"
     ]
    }
   ],
   "source": [
    "print(channels[channels['channel_is_archived'] == False]['channel_creator'].value_counts(dropna = True))"
   ]
  },
  {
   "cell_type": "markdown",
   "metadata": {},
   "source": [
    "#### 2.3.2.3. Messages table\n",
    "Looking  at the messages table first five rows back in the data collection , we could already tell that the messages dataframe contains a record of all the messages posted on the different MDSI Slack channels along with a timestamp, the ID of the user who made the post and the ID of the channels where the post was published. Looking at that info, what we would like to know is what are the most popular channels in terms of comments posted by the different MDSI students. Looking at the results, we can observe how the most popular channel in terms of messages has more messages than the next two channels combined. Also, as you might have noticed, in a similar way to the previous case, we do not have a way of telling the names of the popular channels, yet. "
   ]
  },
  {
   "cell_type": "code",
   "execution_count": 15,
   "metadata": {},
   "outputs": [
    {
     "name": "stdout",
     "output_type": "stream",
     "text": [
      "C1924SRPG    3653\n",
      "CAZTJUPCZ    1874\n",
      "C18SWDACD    1735\n",
      "CC736UEH3    1733\n",
      "C1DPDS65N    1450\n",
      "             ... \n",
      "C1X9875JR       2\n",
      "C6J25RMDG       2\n",
      "C1VREFBHU       2\n",
      "C5C1FFKDJ       1\n",
      "C254JBPDJ       1\n",
      "Name: channel_id, Length: 112, dtype: int64\n"
     ]
    }
   ],
   "source": [
    "# Most popular channels\n",
    "print(messages['channel_id'].value_counts(dropna = True))"
   ]
  },
  {
   "cell_type": "markdown",
   "metadata": {},
   "source": [
    "# 3. Data Preparation\n",
    "\n",
    "In the following section, we make use of what we have learnt after the conduction of the EDA and data description process to generate new dataset(s) that can be used in our analysis and allows us to produce more precise insights regarding the use of the slack channel by the MDSI community at UTS. \n",
    "\n",
    "## 3.1. Integration \n",
    "For the data construction an integration, we make use once again of the 'sqlalchemy' library to connect to the slack database and create a custom dataframa that reflects the decisions made in the previuos subsection and give us the option of producing more precesi insight from our data. After the merging of the three tables in a single data frame, we observe that the total number of messages dropped from 28693 messages to 28061, a reasoning behind this is that those gap represents messages made by users that no longer are part of the MDSI Slack. "
   ]
  },
  {
   "cell_type": "code",
   "execution_count": 3,
   "metadata": {},
   "outputs": [
    {
     "name": "stdout",
     "output_type": "stream",
     "text": [
      "The dimensions of the Users-Channels dataframe are: (128, 16)\n",
      "The dimesions of the integrated dataframe are: (28061, 20)\n"
     ]
    }
   ],
   "source": [
    "# Connect to the database\n",
    "con = engine.connect()\n",
    "\n",
    "# Users - Channels Dataframe\n",
    "\n",
    "UC_rs = con.execute('SELECT * FROM users, channels WHERE users.user_id = channels.channel_creator;')\n",
    "UC = pd.DataFrame(UC_rs.fetchall())\n",
    "UC.columns = UC_rs.keys()\n",
    "\n",
    "print('The dimensions of the Users-Channels dataframe are: ' + str(UC.shape))\n",
    "\n",
    "# Integrated custom Dataframe\n",
    "UCM_rs = con.execute('SELECT * FROM users NATURAL JOIN channels NATURAL JOIN messages;')\n",
    "UCM = pd.DataFrame(UCM_rs.fetchall())\n",
    "UCM.columns = UCM_rs.keys()\n",
    "\n",
    "print('The dimesions of the integrated dataframe are: ' + str(UCM.shape))\n",
    "\n",
    "con.close()"
   ]
  },
  {
   "cell_type": "markdown",
   "metadata": {},
   "source": [
    "## 3.2. Data Cleaning and Construction\n",
    "Here we create X new varibales that will be used further down along the analsysis, in particular , we create this variables In order to "
   ]
  },
  {
   "cell_type": "code",
   "execution_count": 24,
   "metadata": {},
   "outputs": [
    {
     "data": {
      "text/html": [
       "<div>\n",
       "<style scoped>\n",
       "    .dataframe tbody tr th:only-of-type {\n",
       "        vertical-align: middle;\n",
       "    }\n",
       "\n",
       "    .dataframe tbody tr th {\n",
       "        vertical-align: top;\n",
       "    }\n",
       "\n",
       "    .dataframe thead th {\n",
       "        text-align: right;\n",
       "    }\n",
       "</style>\n",
       "<table border=\"1\" class=\"dataframe\">\n",
       "  <thead>\n",
       "    <tr style=\"text-align: right;\">\n",
       "      <th></th>\n",
       "      <th>date</th>\n",
       "      <th>count</th>\n",
       "    </tr>\n",
       "  </thead>\n",
       "  <tbody>\n",
       "    <tr>\n",
       "      <td>0</td>\n",
       "      <td>2018-09-30</td>\n",
       "      <td>552</td>\n",
       "    </tr>\n",
       "    <tr>\n",
       "      <td>1</td>\n",
       "      <td>2018-06-09</td>\n",
       "      <td>486</td>\n",
       "    </tr>\n",
       "    <tr>\n",
       "      <td>2</td>\n",
       "      <td>2018-09-29</td>\n",
       "      <td>435</td>\n",
       "    </tr>\n",
       "    <tr>\n",
       "      <td>3</td>\n",
       "      <td>2018-05-26</td>\n",
       "      <td>395</td>\n",
       "    </tr>\n",
       "    <tr>\n",
       "      <td>4</td>\n",
       "      <td>2018-06-08</td>\n",
       "      <td>352</td>\n",
       "    </tr>\n",
       "  </tbody>\n",
       "</table>\n",
       "</div>"
      ],
      "text/plain": [
       "        date  count\n",
       "0 2018-09-30    552\n",
       "1 2018-06-09    486\n",
       "2 2018-09-29    435\n",
       "3 2018-05-26    395\n",
       "4 2018-06-08    352"
      ]
     },
     "execution_count": 24,
     "metadata": {},
     "output_type": "execute_result"
    }
   ],
   "source": [
    "# Message count by date\n",
    "UCM['date'] = UCM['message_timestamp'].astype(str)\n",
    "UCM['date'] = UCM['date'].str[:10]\n",
    "LineTable = pd.DataFrame(UCM['date'].value_counts(dropna = True))\n",
    "LineTable.reset_index(inplace = True) \n",
    "LineTable = LineTable.rename({'index':'date', 'date':'count'}, axis = 1)\n",
    "LineTable['date'] = pd.to_datetime(LineTable['date'])\n",
    "LineTable.sort_values(by = 'date')\n",
    "LineTable.head()"
   ]
  },
  {
   "cell_type": "markdown",
   "metadata": {},
   "source": [
    "# 4. Modelling - Slack Analysis\n",
    "This is the last section of the analysis of the MDSI slack channel analysis, here we present a series of visualisations made using 'ggplot2', as well as a series of tables that are an improcvement comapred to the tables presented before since we now have extra information regarding names of the users and the channels. Lets start with the tables."
   ]
  },
  {
   "cell_type": "markdown",
   "metadata": {},
   "source": [
    "## 4.1. Tables\n",
    "The first question that we want to answer is how active are the users with and admin status and how they compared with the rest in terms of their activity in the platform."
   ]
  },
  {
   "cell_type": "code",
   "execution_count": 25,
   "metadata": {},
   "outputs": [
    {
     "name": "stdout",
     "output_type": "stream",
     "text": [
      "Perry Stephenson    2477\n",
      "Alex Scriven        2139\n",
      "Dan Booth           1150\n",
      "Rory Angus           737\n",
      "Shan                  32\n",
      "Name: user_name, dtype: int64\n"
     ]
    }
   ],
   "source": [
    "# Who is the most active admin user?\n",
    "print(UCM[UCM['user_is_admin'] == True]['user_name'].value_counts(dropna = True))"
   ]
  },
  {
   "cell_type": "code",
   "execution_count": 26,
   "metadata": {},
   "outputs": [
    {
     "name": "stdout",
     "output_type": "stream",
     "text": [
      "KA HO JACKY WONG                   1365\n",
      "Pedro Fernandez                    1169\n",
      "Davide                              965\n",
      "Priya Ananthram                     784\n",
      "tracykeys                           768\n",
      "                                   ... \n",
      "Michael Green                         1\n",
      "Benny                                 1\n",
      "Andrew Demery                         1\n",
      "MeenakshiSundharam Sankararaman       1\n",
      "Diarmuid kavanagh                     1\n",
      "Name: user_name, Length: 215, dtype: int64\n"
     ]
    }
   ],
   "source": [
    "# Whos the most active non-admin user? \n",
    "print(UCM[UCM['user_is_admin'] == False]['user_name'].value_counts(dropna = True))"
   ]
  },
  {
   "cell_type": "markdown",
   "metadata": {},
   "source": [
    "\n",
    "\n",
    "The next question about the users that we want to answer is about the channels, more specifically, we want to know what are the most popular active channels in terms of messages count. As expected we get the same results as in the EDA, with the difference that now we can tell the name of the channels. \n",
    "\n"
   ]
  },
  {
   "cell_type": "code",
   "execution_count": 28,
   "metadata": {},
   "outputs": [
    {
     "name": "stdout",
     "output_type": "stream",
     "text": [
      "dev_r                  3651\n",
      "dam-assign-3           1874\n",
      "mdsi_announcements     1735\n",
      "spring_stds_assign2    1733\n",
      "mdsi_stds_proj         1378\n",
      "                       ... \n",
      "fliparound                4\n",
      "dsi-notes                 4\n",
      "stds_assign2              2\n",
      "rstudio-web               2\n",
      "ilab                      1\n",
      "Name: channel_name, Length: 66, dtype: int64\n"
     ]
    }
   ],
   "source": [
    "# What is the most popular active channel of all?\n",
    "print(UCM[UCM['channel_is_archived'] == False]['channel_name'].value_counts(dropna = True))"
   ]
  },
  {
   "cell_type": "markdown",
   "metadata": {},
   "source": [
    "\n",
    "\n",
    "Now, we would like to know who the users with the most channels of all\n",
    "\n"
   ]
  },
  {
   "cell_type": "code",
   "execution_count": 37,
   "metadata": {},
   "outputs": [
    {
     "name": "stdout",
     "output_type": "stream",
     "text": [
      "Perry Stephenson                     8\n",
      "Dan Booth                            5\n",
      "Durand Sinclair                      4\n",
      "Pete Holberton                       4\n",
      "Alex Scriven                         4\n",
      "KA HO JACKY WONG                     3\n",
      "Joey Liu                             3\n",
      "Nidhi Aggarwal                       2\n",
      "Pedro Fernandez                      2\n",
      "Peter Brotherhood                    2\n",
      "nia                                  2\n",
      "Rory Angus                           2\n",
      "Rebecca Linigen                      2\n",
      "Rajat Katyal                         2\n",
      "David Ding                           2\n",
      "Andrew Lai                           2\n",
      "Dan Canham                           1\n",
      "Ingrid Brady                         1\n",
      "Mark Gardiner                        1\n",
      "Theresa Anderson                     1\n",
      "Malcolm Rowe                         1\n",
      "Kailash Awati                        1\n",
      "Samantha Manila                      1\n",
      "Roger Yu                             1\n",
      "tracykeys                            1\n",
      "Gautham Bharthi                      1\n",
      "Kelly Tall                           1\n",
      "Sally Foskett                        1\n",
      "Amela Peric                          1\n",
      "Lhogeshwaran (Loki) Purushothaman    1\n",
      "Mike Orchard                         1\n",
      "Anthony SO                           1\n",
      "Priya Ananthram                      1\n",
      "AJ Duncanson                         1\n",
      "Andrew Waites                        1\n",
      "Mutaz Abu Ghazaleh                   1\n",
      "Dorotea Baljevic                     1\n",
      "Anand K C                            1\n",
      "Rajkumar John                        1\n",
      "Charlie Tran                         1\n",
      "Ehsan Chowdhury                      1\n",
      "Name: user_name, dtype: int64\n"
     ]
    }
   ],
   "source": [
    "# Who owns the different active channels. \n",
    "print(UC[UC['channel_is_archived'] == False]['user_name'].value_counts(dropna = True))"
   ]
  },
  {
   "cell_type": "markdown",
   "metadata": {},
   "source": [
    "## 4.2. Data Visualisation\n",
    "For the final part of our Slack analysis, we would like to present some visualisations that can give us extra information about the evolution of the slack channels throught time. The visuaslisations are produced using 'ggplot2' an extension library of the R along with 'rpy2'."
   ]
  },
  {
   "cell_type": "markdown",
   "metadata": {},
   "source": [
    "### 4.2.1 Evolution of Slack messaging over time\n",
    "For our first plot using ggpot, we wanted to present the evolution of the "
   ]
  },
  {
   "cell_type": "code",
   "execution_count": 53,
   "metadata": {},
   "outputs": [
    {
     "data": {
      "image/png": "[encoded data removed]"
     },
     "metadata": {},
     "output_type": "display_data"
    }
   ],
   "source": [
    "%%R -i LineTable -w 900\n",
    "# -i especifies the input \n",
    "# -w especifies the width\n",
    "\n",
    "LineTable$date <- as.Date(LineTable$date) # we have to declare the date variable as a date\n",
    "\n",
    "library(\"ggplot2\") # If this line does not work, make sure that you have installed 'ggplot2' inside the anaconda env\n",
    "\n",
    "# Evolution of the slack messaging \n",
    "ggplot(LineTable, aes(x = date, y = count)) + \n",
    "    geom_line(color = 'blue', alpha = 0.8) +\n",
    "    ggtitle(\"Evolution of MDSI messages\") +\n",
    "    scale_x_date(breaks = \"2 month\", date_labels = '%Y-%m', expand = c(0,0)) +\n",
    "    theme_minimal() "
   ]
  },
  {
   "cell_type": "markdown",
   "metadata": {},
   "source": [
    "### 4.2.2. "
   ]
  },
  {
   "cell_type": "code",
   "execution_count": null,
   "metadata": {},
   "outputs": [],
   "source": []
  },
  {
   "cell_type": "code",
   "execution_count": null,
   "metadata": {},
   "outputs": [],
   "source": []
  }
 ],
 "metadata": {
  "file_extension": ".py",
  "kernelspec": {
   "display_name": "Python 3",
   "language": "python",
   "name": "python3"
  },
  "language_info": {
   "codemirror_mode": {
    "name": "ipython",
    "version": 3
   },
   "file_extension": ".py",
   "mimetype": "text/x-python",
   "name": "python",
   "nbconvert_exporter": "python",
   "pygments_lexer": "ipython3",
   "version": "3.7.4"
  },
  "mimetype": "text/x-python",
  "name": "python",
  "npconvert_exporter": "python",
  "pygments_lexer": "ipython3",
  "version": 3
 },
 "nbformat": 4,
 "nbformat_minor": 2
}
